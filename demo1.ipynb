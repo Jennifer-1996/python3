{
 "cells": [
  {
   "cell_type": "markdown",
   "metadata": {},
   "source": [
    "## python "
   ]
  },
  {
   "cell_type": "code",
   "execution_count": null,
   "metadata": {},
   "outputs": [],
   "source": [
    "def acc_add(s, e):\n",
    "    sum = 0\n",
    "    for i in range(s, e+1):\n",
    "        sum = sum + i\n",
    "    return sum\n",
    "\n",
    "print(acc_add(1, 100))      "
   ]
  },
  {
   "cell_type": "code",
   "execution_count": null,
   "metadata": {},
   "outputs": [],
   "source": [
    "def print_angle(n):\n",
    "    for i in range(n):\n",
    "        # 打印空格\n",
    "        for j in range(n - i - 1):\n",
    "            print(\" \", end=\"\")\n",
    "        for k in range(2 * i + 1):\n",
    "            print(\"*\", end=\"\")\n",
    "        print()\n",
    "\n",
    "print_angle(5)"
   ]
  },
  {
   "cell_type": "code",
   "execution_count": null,
   "metadata": {},
   "outputs": [],
   "source": [
    "def cal_rooms(s, n):\n",
    "    return (n + s-1) // s  # /除有小数，//整除\n",
    "\n",
    "print(cal_rooms(3, 9))\n",
    "print(cal_rooms(3, 10))"
   ]
  },
  {
   "cell_type": "code",
   "execution_count": null,
   "metadata": {},
   "outputs": [],
   "source": [
    "print(\"{0}-{1}-{2}\".format(\"a\",\"b\",\"c\"))"
   ]
  },
  {
   "cell_type": "code",
   "execution_count": null,
   "metadata": {},
   "outputs": [],
   "source": [
    "list=[\"The\",\"PERFECT\",\"WEAPON\"]\n",
    "print(list[0])\n",
    "print(\"1.{0[0]},2.{0[1]},3.{0[2]}\".format(list))"
   ]
  },
  {
   "cell_type": "code",
   "execution_count": null,
   "metadata": {},
   "outputs": [],
   "source": [
    "site={\"name\":\"google\",\"url\":\"www.google.com\"}# key:value\n",
    "print(\"网站名:{name},地址:{url}\".format(**site))#引用的如果是词典，需要在前面加**"
   ]
  },
  {
   "cell_type": "code",
   "execution_count": null,
   "metadata": {},
   "outputs": [],
   "source": [
    "print(\"取两位的PI:{:.2f}\".format(3.1415926))\n",
    "print(\"取两位的整数:{:2d}\".format(2))\n",
    "print(\"取两位的整数:{:2d}\".format(2))"
   ]
  },
  {
   "cell_type": "code",
   "execution_count": null,
   "metadata": {},
   "outputs": [],
   "source": [
    "def p99(n):\n",
    "    for i in range(1,n+1):\n",
    "        for j in range(1,i+1):\n",
    "            print(i,\"*\",j,\"={:2d}\".format(i*j), end=\"  \")\n",
    "        print()\n",
    "\n",
    "p99(9)"
   ]
  },
  {
   "cell_type": "code",
   "execution_count": null,
   "metadata": {},
   "outputs": [],
   "source": [
    "import operator\n",
    "ops = {\"+\":operator.add,\"-\":operator.sub,\"*\":operator.mul,\"/\":operator.truediv} #truediv 有小数 floordiv 整除\n",
    "# ops[op](a,b) = operator.add(a,b)\n",
    "\n",
    "def calculator_v1(a,op,b):\n",
    "    return ops[op](a,b)\n",
    "\n",
    "def calculator(a,op,b):\n",
    "    if op == \"+\":\n",
    "        return a+b\n",
    "    elif op == \"-\":\n",
    "        return a-b\n",
    "    elif op == \"/\":\n",
    "        return a//b\n",
    "    else:\n",
    "        print(\"input error\")\n",
    "        return 0\n",
    "print(calculator(1,\"+\",2))\n",
    "print(calculator(1,\"&\",2))\n",
    "\n",
    "print(calculator(1,\"+\",2))\n",
    "print(calculator(1,\"&\",2))"
   ]
  },
  {
   "cell_type": "code",
   "execution_count": null,
   "metadata": {},
   "outputs": [],
   "source": [
    "import re\n",
    "m = re.match(\"我来自(东京|大阪)\",\"我来自东京，我喜欢大阪\")\n",
    "print(m.group(0))"
   ]
  },
  {
   "cell_type": "code",
   "execution_count": null,
   "metadata": {},
   "outputs": [],
   "source": [
    "import re\n",
    "def is_valid_postcode(code):\n",
    "    if re.match(\"^\\d{3}-?\\d{4}$\",code):\n",
    "        return True\n",
    "    else:\n",
    "        return False\n",
    "print(is_valid_postcode(\"111111111111\"))"
   ]
  },
  {
   "cell_type": "code",
   "execution_count": null,
   "metadata": {},
   "outputs": [],
   "source": [
    "import re\n",
    "\n",
    "def is_valid_email(addr):\n",
    "    if re.match(\"\\w+@\\w+.(com|jp)\",addr):  \n",
    "    #如果只想要字母[a-zA-Z0-9_]\n",
    "        return True\n",
    "    else:\n",
    "        return False\n",
    "print(is_valid_email(\"yumengyao@126.com\"))\n",
    "print(is_valid_email(\"yumengyao@qq.com\"))\n",
    "print(is_valid_email(\"yumengyao@yahoo.jp\"))\n",
    "print(is_valid_email(\"yumengyao@126*.com\"))\n",
    "print(is_valid_email(\"yumengyao*26.com\"))"
   ]
  },
  {
   "cell_type": "code",
   "execution_count": null,
   "metadata": {},
   "outputs": [],
   "source": [
    "import re\n",
    "\n",
    "def name_of_email(addr):\n",
    "    m = re.match(\"(\\w+)@\\w+.(com|jp)\",addr)\n",
    "    if m:  \n",
    "    #如果只想要字母[a-zA-Z0-9_]\n",
    "        return m.group(1)\n",
    "    else:\n",
    "        return None\n",
    "print(name_of_email(\"yumengyao@126.com\"))"
   ]
  },
  {
   "cell_type": "code",
   "execution_count": null,
   "metadata": {},
   "outputs": [],
   "source": [
    "import re\n",
    "\n",
    "def auto_name_file(text):\n",
    "    m = re.match(\"我是(\\w{1,30})，我的学号是(\\d{8})，这是(\\w+)的作业\",text)\n",
    "    if m:  \n",
    "    #如果只想要字母[a-zA-Z0-9_]\n",
    "        return m.group(3)+\"-\"+m.group(1)+\"-\"+m.group(2)\n",
    "    else:\n",
    "        return None\n",
    "print(auto_name_file(\"我是Tom，我的学号是49196400，这是Python的作业\"))"
   ]
  },
  {
   "cell_type": "code",
   "execution_count": null,
   "metadata": {},
   "outputs": [],
   "source": [
    "a = list(range(1,11))\n",
    "print(a)\n",
    "\n",
    "b = [x*x for x in range(1,11)]\n",
    "print(b)\n",
    "\n",
    "c = [m + n for m in \"ABC\" for n in \"DEF\"]\n",
    "print(c)\n",
    "\n",
    "d = [0 for _ in range(10)]\n",
    "print(d)\n",
    "\n",
    "d = [[0 for _ in range(10)]for _ in range(3)]\n",
    "print(d)\n",
    "\n",
    "def make2d(height,width):\n",
    "    return [[0 for _ in range(width)] for _ in range(height)]\n",
    "e = make2d(3,10)\n",
    "print(e)"
   ]
  },
  {
   "cell_type": "code",
   "execution_count": null,
   "metadata": {},
   "outputs": [],
   "source": [
    "fruits = [\"apple\",\"pear\",\"banana\",\"cherry\"]\n",
    "for f in fruits:\n",
    "    print(f)\n",
    "    \n",
    "#直接迭代\n",
    "print(fruits[2])\n",
    "#索引迭代\n",
    "print(len(fruits))\n",
    "\n",
    "for i in range(len(fruits)):\n",
    "    print(i, fruits[i])"
   ]
  },
  {
   "cell_type": "code",
   "execution_count": null,
   "metadata": {},
   "outputs": [],
   "source": [
    "g = {\"a\":1, \"b\":2, \"c\":3}\n",
    "for key in g:\n",
    "    print(key, g[key])\n",
    "for ch in \"hello world\":\n",
    "    print(ch)\n",
    "    \n",
    "for x,y in [(1,2),(3,4),(5,6)]:\n",
    "    print(\"x:\",x,\"y:\"y)"
   ]
  },
  {
   "cell_type": "code",
   "execution_count": null,
   "metadata": {},
   "outputs": [],
   "source": [
    "classmates = [\"YMY\",\"Lisa\",\"Diandian\"]\n",
    "print(classmates[1],classmates[2])\n",
    "\n",
    "#制定索引范围[start:end] [start,end)\n",
    "print(classmates[1:3])\n",
    "print(classmates[-2:])\n",
    "\n",
    "L = [x for x in range(1,21)]\n",
    "print(L[:10:2])\n",
    "print(L[::5])"
   ]
  },
  {
   "cell_type": "code",
   "execution_count": null,
   "metadata": {},
   "outputs": [],
   "source": [
    "a = [[1,2,3],[10,20,30]]\n",
    "\n",
    "def extend_sum(a2):\n",
    "    a2.append([0 for _ in range(len(a2[0])+1)])\n",
    "    for i in range(len(a2)-1):\n",
    "        a2[i].append(0)\n",
    "        #[1,2,3],[10,20,30]\n",
    "        for j in range(len(a2[i])-1):\n",
    "            a2[i][len(a2[i])-1] += a2[i][j]\n",
    "            a2[len(a2)-1][j] += a2[i][j]\n",
    "            a2[len(a2)-1][len(a2[i])-1]+= a2[i][j]\n",
    "    return a2\n",
    "\n",
    "b = extend_sum(a)\n",
    "print(extend_sum(a))\n",
    "print(extend_sum(b))\n",
    "\n",
    "        \n",
    "\n",
    "    "
   ]
  },
  {
   "cell_type": "code",
   "execution_count": null,
   "metadata": {},
   "outputs": [],
   "source": [
    "def conv_temp(val):\n",
    "    #判断用户输入的是摄氏度还是华氏度\n",
    "    #用户可以输入32C,华氏度66F\n",
    "    \n",
    "    if val[-1] == \"C\": \n",
    "        print(\"输入的是摄氏度:\",val[:-1])\n",
    "        c = float(val[:-1])*1.8+32\n",
    "        print(\"输出华氏温度为:%2d\"%c)\n",
    "    elif val[-1] == \"F\":\n",
    "        print(\"输入的是华氏温度:\",val[:-1])\n",
    "        f = (int(val[:-1])-32)/1.8\n",
    "        print(\"输出摄氏温度为:%.2f\"%f)\n",
    "    else:\n",
    "        print(\"输入内容不合法，请输入 xxF或xxC\")\n",
    "        \n",
    "val = input(\"请输入当前温度：\")\n",
    "        \n",
    "conv_temp(\"32C\")\n",
    "conv_temp(\"89F\")\n",
    "conv_temp(\"adx\")\n",
    "\n",
    "\n"
   ]
  },
  {
   "cell_type": "code",
   "execution_count": null,
   "metadata": {},
   "outputs": [],
   "source": [
    "def dec2bin(n):\n",
    "    rs = []\n",
    "    while not n == 0:\n",
    "        #把每次取余数得到的结果加到集合里\n",
    "        rs.append(str(n%2)) #先取余数\n",
    "        #除2直到n除到0为止\n",
    "        n = n//2\n",
    "        #print打印过程 return结果\n",
    "    return \"\".join(rs[::-1])\n",
    "        \n",
    "print(dec2bin(20))"
   ]
  },
  {
   "cell_type": "code",
   "execution_count": null,
   "metadata": {},
   "outputs": [],
   "source": [
    "def bubble_sort(a):\n",
    "    for i in range(len(a)-1):\n",
    "        for j in range(i+1,len(a)):\n",
    "            if a[i]<a[j]:\n",
    "                a[i],a[j]=a[j],a[i]\n",
    "    return a\n",
    "array = [4,5,2,1]\n",
    "print(bubble_sort(array))"
   ]
  },
  {
   "cell_type": "code",
   "execution_count": null,
   "metadata": {},
   "outputs": [],
   "source": [
    "def fact(n):\n",
    "    if n == 1:\n",
    "        return 1\n",
    "    else:\n",
    "        return fact(n-1)*n\n",
    "print(fact(1))\n",
    "print(fact(5))        "
   ]
  },
  {
   "cell_type": "code",
   "execution_count": null,
   "metadata": {},
   "outputs": [],
   "source": [
    "def fact_2(n):\n",
    "    result = 1\n",
    "    while not n == 1:\n",
    "        result = result * n\n",
    "        n = n-1\n",
    "    return result\n",
    "\n",
    "def fact_3(n):\n",
    "    result=1\n",
    "    for i in range(1,n+1):\n",
    "        result=result*i\n",
    "    return result\n",
    "\n",
    "print(fact_2(1))\n",
    "print(fact_2(5))\n",
    "\n",
    "print(fact_3(1))\n",
    "print(fact_3(5))\n",
    "     "
   ]
  },
  {
   "cell_type": "code",
   "execution_count": null,
   "metadata": {},
   "outputs": [],
   "source": [
    "def fib(n):\n",
    "    if n==0:\n",
    "        return 0\n",
    "    elif n==1:\n",
    "        return 1\n",
    "    else:\n",
    "        return fib(n-1)+fib(n-2)\n",
    "    \n",
    "print(fib(6))\n",
    "print(fib(7))"
   ]
  },
  {
   "cell_type": "code",
   "execution_count": null,
   "metadata": {},
   "outputs": [],
   "source": [
    "#定义一个student类\n",
    "\n",
    "class Student():\n",
    "    def __init__(self,n,s):\n",
    "        self.__name = n\n",
    "        self.__score = s\n",
    "        \n",
    "#下划线表示privte\n",
    "        \n",
    "    \n",
    "    def print_score(self):\n",
    "        print(self.__name,\":\",self.__score)\n",
    "        \n",
    "    def get_grade(self):\n",
    "        if self.__score >= 90:\n",
    "            return\"A\"\n",
    "        elif self.__score >=60:\n",
    "            return\"B\"\n",
    "        \n",
    "        else:\n",
    "            return\"C\"\n",
    "    def get_score(self):\n",
    "        return self.__score\n",
    "    def get_name(self):\n",
    "        return self.__name\n",
    "#事例化一个类\n",
    "\n",
    "ymy = Student(\"Jennifer Yu\", 100)\n",
    "xf = Student(\"Xia Fei\",66)\n",
    "\n",
    "\n",
    "#ymy.score = 99\n",
    "\n",
    "\n",
    "ymy.print_score()\n",
    "\n",
    "print(ymy.get_grade())\n",
    "print(xf.get_grade())\n",
    "print(ymy.get_score())\n",
    "print(ymy.get_name())"
   ]
  },
  {
   "cell_type": "code",
   "execution_count": null,
   "metadata": {},
   "outputs": [],
   "source": [
    "def print_score(s):\n",
    "    print(s.name,\":\",s.score)"
   ]
  },
  {
   "cell_type": "code",
   "execution_count": null,
   "metadata": {},
   "outputs": [],
   "source": [
    "#队列练习queue\n",
    "\n",
    "class Queue():\n",
    "    def __init__(self):\n",
    "        self.__entries = [] #表示队列\n",
    "        self.__length = 0 #队列长度\n",
    "        self.__front = 0 #队首位置\n",
    "    \n",
    "    def enqueue(self,item):\n",
    "        self.__entries.append(item) #添加元素\n",
    "        self.__length = self.__length + 1\n",
    "        \n",
    "    def dequeue(self):\n",
    "        self.__length = self.__length - 1\n",
    "        dequeue = self.__entries[self.__front]\n",
    "        self.__front = self.__front + 1 #队首位置右移\n",
    "        self.__entries = self.__entries[self.__front:]#队列元素更新\n",
    "        return dequeue\n",
    "    \n",
    "    def peek(self):\n",
    "        return self.__entries[self.__front]\n",
    "    def print_queue(self):\n",
    "        print(self.__entries)\n",
    "    \n",
    "ymy_room = Queue()\n",
    "\n",
    "ymy_room.enqueue(\"Lisa\")\n",
    "ymy_room.enqueue(\"DianDian\")\n",
    "ymy_room.print_queue()\n",
    "ymy_room.dequeue()\n",
    "ymy_room.print_queue()\n",
    "        \n",
    "        \n",
    "        \n",
    "        "
   ]
  },
  {
   "cell_type": "code",
   "execution_count": null,
   "metadata": {},
   "outputs": [],
   "source": [
    "from math import sqrt\n",
    "def point_in_range(x,y):#x,y 0-1.0\n",
    "    if (x**2 + y**2) <= 1.0:\n",
    "        return True\n",
    "    else:\n",
    "        return False\n",
    "print(point_in_range(0.5,0.5))\n",
    "print(point_in_range(1.0,0.8))"
   ]
  },
  {
   "cell_type": "code",
   "execution_count": null,
   "metadata": {},
   "outputs": [],
   "source": [
    "import random\n",
    "\n",
    "random.seed(10)\n",
    "\n",
    "print(random.random())\n",
    "\n",
    "from random import *\n",
    "\n",
    "seed()\n",
    "print((random()))"
   ]
  },
  {
   "cell_type": "code",
   "execution_count": null,
   "metadata": {},
   "outputs": [],
   "source": [
    "import time\n",
    "\n",
    "def cal_pi(times):\n",
    "    start = time.process_time()\n",
    "    hits = 0\n",
    "    for _ in range(times):\n",
    "        x,y = random(),random()\n",
    "        if point_in_range(x,y):#在半圆里\n",
    "            hits += 1\n",
    "    pi = 4*(hits/times)\n",
    "    end = time.process_time()\n",
    "    print(end-start)\n",
    "    return pi\n",
    "\n",
    "print(cal_pi(2**10))\n",
    "print(cal_pi(2**20))\n",
    "print(cal_pi(2**25))"
   ]
  },
  {
   "cell_type": "code",
   "execution_count": null,
   "metadata": {},
   "outputs": [],
   "source": [
    "#二叉树\n",
    "class Node:\n",
    "    def __init__(self, root):\n",
    "        self.data = root\n",
    "        self.left = None\n",
    "        self.right = None\n",
    "        \n",
    "    def print_tree(self): #左中右\n",
    "        if self.left: #is not None\n",
    "            self.left.print_tree()\n",
    "        \n",
    "        print(self.data)\n",
    "        \n",
    "        if self.right:\n",
    "            self.right.print_tree()\n",
    "            \n",
    "    def insert(self,data):\n",
    "            if data < self.data:\n",
    "                if self.left is None:\n",
    "                    self.left = Node(data)\n",
    "                else:\n",
    "                    self.left.insert(data)\n",
    "            elif data > self.data:\n",
    "                if self.right is None:\n",
    "                    self.right = Node(data)\n",
    "                else:\n",
    "                    self.right.insert(data)\n",
    "            else:\n",
    "                self.data = data\n",
    "                \n",
    "santal_tree = Node(12)\n",
    "santal_tree.insert(7)\n",
    "santal_tree.insert(8)\n",
    "santal_tree.insert(19)\n",
    "santal_tree.insert(1)\n",
    "santal_tree.insert(3)\n",
    "santal_tree.insert(6)\n",
    "\n",
    "santal_tree.print_tree()"
   ]
  },
  {
   "cell_type": "code",
   "execution_count": null,
   "metadata": {},
   "outputs": [],
   "source": [
    "def div_test(a,b):\n",
    "    try:\n",
    "        return a/b\n",
    "    except:\n",
    "        print(\"can not division by zero\")\n",
    "        return 0\n",
    "\n",
    "print(div_test(10,5))\n",
    "print(div_test(10,0))"
   ]
  },
  {
   "cell_type": "code",
   "execution_count": null,
   "metadata": {},
   "outputs": [],
   "source": [
    "def read_file(file_path):\n",
    "    infile = open(file_path,\"r\")\n",
    "    data = infile.read()\n",
    "    print(data)\n",
    "       \n",
    "\n",
    "def read_file_line(file_path):\n",
    "    infile = open(file_path,\"r\")\n",
    "    for line in infile:\n",
    "        print(line[0:-1])\n",
    "    infile.close()\n",
    "        \n",
    "read_file_line(\"/Users/yumengyao/Downloads/data.txt\")"
   ]
  },
  {
   "cell_type": "code",
   "execution_count": 1,
   "metadata": {},
   "outputs": [
    {
     "name": "stdout",
     "output_type": "stream",
     "text": [
      "[[300.0, 0.0, 144.0, 1.0, 0.0, 0.0], [300.0, 0.0, 144.0, 0.0, 1.0, 0.0], [300.0, 0.0, 144.0, 0.0, 0.0, 1.0], [300.0, 0.0, 144.0, 1.0, 1.0, 0.0], [300.0, 0.0, 108.0, 0.0, 1.0, 1.0], [184.0, 0.0, 72.0, 1.0, 0.0, 1.0], [184.0, 0.0, 72.0, 0.0, 0.0, 0.0], [184.0, 0.0, 72.0, 0.0, 0.0, 0.0], [184.0, 0.0, 72.0, 0.0, 0.0, 0.0]]\n"
     ]
    }
   ],
   "source": [
    "import turtle\n",
    "\n",
    "def my_draw(file_path):\n",
    "    #设置窗口\n",
    "    turtle.title(\"三毛画画挨打教学\")\n",
    "    turtle.setup(800,600,0,0)\n",
    "    #设置画笔\n",
    "    pen = turtle.Turtle()\n",
    "    pen.color(\"yellow\")\n",
    "    pen.width(5)\n",
    "    pen.shape(\"turtle\")\n",
    "    pen.speed(5)\n",
    "    #读取文件\n",
    "    result = []\n",
    "    infile = open(file_path,\"r\")\n",
    "    for line in infile: \n",
    "        #result = [[300,0,144,1,0,0], [300,0,144,1,0,0]]\n",
    "        result.append(list(map(float, line.split(\",\"))))\n",
    "    print(result)\n",
    "    \n",
    "    #动态绘制\n",
    "    for i in range(len(result)):\n",
    "        #设置颜色\n",
    "        pen.color(result[i][3],result[i][4],result[i][5])\n",
    "        pen.fd(result[i][0])\n",
    "        if result[i][1] == 1.0:\n",
    "            pen.rt(result[i][2])\n",
    "        else:\n",
    "            pen.lt(result[i][2])\n",
    "    pen.goto(0,0)\n",
    "    \n",
    "my_draw(\"/Users/yumengyao/Downloads/data.txt\")\n",
    "        "
   ]
  },
  {
   "cell_type": "code",
   "execution_count": 4,
   "metadata": {},
   "outputs": [
    {
     "name": "stdout",
     "output_type": "stream",
     "text": [
      "拼接完成\n"
     ]
    }
   ],
   "source": [
    "f1 = open('u-email.txt','rb')\n",
    "f2 = open('u-phone.txt','rb')\n",
    "\n",
    "#跳过文件首行\n",
    "f1.readline()\n",
    "f2.readline()\n",
    "\n",
    "#初始化一些容器\n",
    "lines = []\n",
    "lines1 = f1.readlines()\n",
    "lines2 = f2.readlines()\n",
    "\n",
    "list1_id = []\n",
    "list1_name = []\n",
    "list1_email = []\n",
    "\n",
    "list2_id = []\n",
    "list2_name = []\n",
    "list2_phone = []\n",
    "\n",
    "#获得第一个文件中的id 姓名 邮箱\n",
    "for line in lines1:\n",
    "    e = line.split()\n",
    "    list1_id.append(str(e[0].decode('utf-8')))\n",
    "    list1_name.append(str(e[1].decode('utf-8')))\n",
    "    list1_email.append(str(e[2].decode('utf-8')))\n",
    "\n",
    "for line in lines2:\n",
    "    e = line.split()\n",
    "    list2_id.append(str(e[0].decode('utf-8')))\n",
    "    list2_name.append(str(e[1].decode('utf-8')))\n",
    "    list2_phone.append(str(e[2].decode('utf-8')))\n",
    "\n",
    "#处理表1和表2共有的数据\n",
    "\n",
    "for i in range(len(list1_id)):\n",
    "    s = ''\n",
    "    if list1_id[i] in list2_id:\n",
    "        j = list2_id.index(list1_id[i])  \n",
    "        #找到2对应的下标\n",
    "        s = '\\t'.join([list1_id[i],list1_name[i],list1_email[i],list2_phone[j]])\n",
    "    else:\n",
    "        s = '\\t'.join([list1_id[i],list1_name[i],list1_email[i],'    ----    '])\n",
    "    s += '\\n'\n",
    "    lines.append(s)\n",
    "    \n",
    "#处理表2剩余的\n",
    "for i in range(len(list2_id)):\n",
    "    s = ''\n",
    "    if list2_id[i] not in list1_id:\n",
    "    #找到不在第一个表里的\n",
    "        s = '\\t'.join([list2_id[i],list2_name[i],'    ----    ',list2_phone[i]])\n",
    "        s +='\\n'\n",
    "    lines.append(s)\n",
    "    \n",
    "#把拼接好的内容写到新的文件里\n",
    "f3 = open('u-all.txt','w')\n",
    "f3.writelines(lines)\n",
    "    \n",
    "f3.close()    \n",
    "f1.close()\n",
    "f2.close()\n",
    "\n",
    "print(\"拼接完成\")\n",
    "    "
   ]
  },
  {
   "cell_type": "code",
   "execution_count": 13,
   "metadata": {},
   "outputs": [
    {
     "name": "stdout",
     "output_type": "stream",
     "text": [
      "10010\n",
      "10011\n",
      "10012\n",
      "Tom\n",
      "Jerry\n",
      "SpongeBob\n",
      "('10010', 'Tom')\n",
      "('10011', 'Jerry')\n",
      "('10012', 'SpongeBob')\n",
      "10010 Tom\n",
      "10011 Jerry\n",
      "10012 SpongeBob\n",
      "False\n",
      "True\n",
      "SpongeBob\n",
      "SpongeBob\n"
     ]
    }
   ],
   "source": [
    "dic = {'10010':'Tom','10011':'Jerry'}\n",
    "dic['10012'] = 'SpongeBob'\n",
    "\n",
    "for k in dic.keys():\n",
    "    print(k)\n",
    "    \n",
    "for v in dic.values():\n",
    "    print(v)\n",
    "    \n",
    "for item in dic.items():\n",
    "    print(item)\n",
    "    \n",
    "for v,k in dic.items():\n",
    "    print(v,k)\n",
    "    \n",
    "print('10099' in dic)\n",
    "print('10010' in dic)\n",
    "print(dic.get('10012'))\n",
    "print(dic['10012'])"
   ]
  },
  {
   "cell_type": "code",
   "execution_count": 23,
   "metadata": {},
   "outputs": [
    {
     "name": "stdout",
     "output_type": "stream",
     "text": [
      "请输入要查询的学生id:退出请输入quit()123456\n",
      "未找到 123456\n",
      "请输入要查询的学生id:退出请输入quit()491964\n",
      "491964,夏雨,xiayu571@gmail.com,08059165656\n",
      "请输入要查询的学生id:退出请输入quit()511211\n",
      "511211,YmY,----,07012110615\n",
      "请输入要查询的学生id:退出请输入quit()quit()\n"
     ]
    }
   ],
   "source": [
    "#读取文件读写练习2生成的u-all.txt 文件\n",
    "#把里面所以数据加入到一个字典 dic 中\n",
    "#key 为学生编号， value为自定义学生类Students\n",
    "#学生类中包含4个私有属性, uid, name, email, phone\n",
    "#学生类中定义info()方法，返回学生信息\n",
    "\n",
    "class Students:\n",
    "    def __init__(self,uid,name,email,phone):\n",
    "        self.__uid = uid\n",
    "        self.__name = name\n",
    "        self.__email = email\n",
    "        self.__phone = phone\n",
    "    def info(self):\n",
    "        return ','.join([self.__uid,self.__name,self.__email,self.__phone])\n",
    "\n",
    "f = open('u-all.txt', 'rb')\n",
    "lines = f.readlines()\n",
    "dic = {}\n",
    "for line in lines:\n",
    "    e = line.split()\n",
    "    s = Students(str(e[0].decode(\"utf-8\")),str(e[1].decode(\"utf-8\")),str(e[2].decode(\"utf-8\")),str(e[3].decode(\"utf-8\")))\n",
    "    dic[str(e[0].decode(\"utf-8\"))] = s\n",
    "f.close()\n",
    "\n",
    "#s1 = dic[\"491964\"]\n",
    "\n",
    "#s2 = Students(\"491964\",\"夏雨\",\"xiayu571@gmail.com\",\"08059165656\")\n",
    "\n",
    "#print(s1.info())\n",
    "#print(s2.info())\n",
    "\n",
    "while True:\n",
    "#无限循环\n",
    "\n",
    "    vl = input(\"请输入要查询的学生id:退出请输入quit()\")\n",
    "    if vl == \"quit()\":\n",
    "        break\n",
    "        #中断循环\n",
    "    else:\n",
    "        if vl not in dic:\n",
    "            print(\"未找到\",vl)\n",
    "        else:\n",
    "            print(dic[vl].info())\n",
    "    \n",
    "\n"
   ]
  },
  {
   "cell_type": "code",
   "execution_count": null,
   "metadata": {},
   "outputs": [],
   "source": []
  }
 ],
 "metadata": {
  "kernelspec": {
   "display_name": "Python 3",
   "language": "python",
   "name": "python3"
  },
  "language_info": {
   "codemirror_mode": {
    "name": "ipython",
    "version": 3
   },
   "file_extension": ".py",
   "mimetype": "text/x-python",
   "name": "python",
   "nbconvert_exporter": "python",
   "pygments_lexer": "ipython3",
   "version": "3.7.4"
  }
 },
 "nbformat": 4,
 "nbformat_minor": 2
}
